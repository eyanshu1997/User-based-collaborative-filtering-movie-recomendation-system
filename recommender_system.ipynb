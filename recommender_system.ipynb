{
 "cells": [
  {
   "cell_type": "code",
   "execution_count": 17,
   "metadata": {},
   "outputs": [],
   "source": [
    "import pandas as pd\n",
    "import numpy as np\n",
    "import time\n",
    "import random\n",
    "from sklearn.decomposition import PCA, FastICA"
   ]
  },
  {
   "cell_type": "code",
   "execution_count": 2,
   "metadata": {},
   "outputs": [],
   "source": [
    "ratings = pd.read_csv('ratings.csv')"
   ]
  },
  {
   "cell_type": "code",
   "execution_count": 3,
   "metadata": {},
   "outputs": [],
   "source": [
    "#returns top k neighbours given correlation matrix\n",
    "def top_k(corr_matrix, k):\n",
    "    top_indexes = np.argsort(-corr) +1 # (-) sign in corr would sort this in desending order \n",
    "                                        # and +1 this would give the userID rather than index \n",
    "    return top_indexes.iloc[:,1:k+1] #sliced this way because the item is correlated to itself the most"
   ]
  },
  {
   "cell_type": "code",
   "execution_count": 33,
   "metadata": {
    "scrolled": false
   },
   "outputs": [
    {
     "name": "stdout",
     "output_type": "stream",
     "text": [
      "####### K fold part-1 ########\n",
      "Done with this fold in 204.4609353542328 s\n",
      "MSE for this part is 1.185667482556367\n",
      "####### K fold part-2 ########\n",
      "Done with this fold in 204.37644243240356 s\n",
      "MSE for this part is 1.1777630480232075\n",
      "####### K fold part-3 ########\n",
      "Done with this fold in 204.9205994606018 s\n",
      "MSE for this part is 1.2135292501423276\n",
      "####### K fold part-4 ########\n",
      "Done with this fold in 204.34527969360352 s\n",
      "MSE for this part is 1.181296350171233\n",
      "####### K fold part-5 ########\n",
      "Done with this fold in 205.66029167175293 s\n",
      "MSE for this part is 1.2042443881845655\n",
      "MSE is 1.19250010381554\n"
     ]
    }
   ],
   "source": [
    "k_folds = 5 #folds\n",
    "k = 5 #neighbours\n",
    "fold_errors = []\n",
    "\n",
    "for i in range(k_folds):\n",
    "    errors = [] #errors withing the fold\n",
    "    #randomize the ratings matrix and choose random points for different user\n",
    "    #just like the sampling technique specified in the slides\n",
    "    shuffled = ratings.sample(frac=1) \n",
    "    cut = int((1- 1/k_folds)* len(ratings))\n",
    "    \n",
    "    #split training and test\n",
    "    training = shuffled.iloc[:cut]\n",
    "    test = shuffled.iloc[cut:]\n",
    "    \n",
    "    #creating of utility matrix, default value being NaNs, and rows being userID and columns are movieId\n",
    "    utility_matrix = pd.DataFrame(index= sorted(pd.unique(ratings.userId)), \\\n",
    "                              columns = sorted(pd.unique(ratings.movieId)))\n",
    "    \n",
    "    \n",
    "    print(f\"####### K fold part-{i+1} ########\")\n",
    "    start= time.time() #just book-keeping\n",
    "    \n",
    "    #filling up row matrix\n",
    "    for _, row in training.iterrows():\n",
    "        utility_matrix.loc[int(row.userId), int(row.movieId)] = row.rating\n",
    "        \n",
    "    #need to fill in mean ratings for the final formula\n",
    "    mean_ratings = utility_matrix.sum(axis=1)/(utility_matrix>0).sum(axis=1)\n",
    "    \n",
    "    utility_matrix.fillna(utility_matrix.mean(), inplace= True) #filling up the NaNs with movie averages\n",
    "    utility_matrix.fillna(0, inplace= True) #we would have the problem of cold start, thus filling w/ 0\n",
    "    \n",
    "    corr = utility_matrix.T.corr() #correlation matrix, default is pearson\n",
    "    \n",
    "    top_neighbours = top_k(corr, k) #see up\n",
    "    \n",
    "    #prediction part\n",
    "    #selecting 1 user at a time and predicting values for all the movies for that user\n",
    "    #calculating mse for every movie encountered in test set\n",
    "    for target_user in test.userId.unique():\n",
    "\n",
    "        temp = test[test.userId==target_user]\n",
    "        similarities = np.sort(corr)[target_user-1,-k-1:-1][::-1]\n",
    "        neighbour_ratings = utility_matrix.loc[top_neighbours.loc[target_user]]\n",
    "\n",
    "        suggested_ratings = mean_ratings.loc[target_user] + similarities * neighbour_ratings.T/sum(similarities)\n",
    "        suggested_ratings = suggested_ratings.mean(axis=1)\n",
    "        \n",
    "        for _, row in temp.iterrows():\n",
    "            errors.append((row.rating - suggested_ratings.loc[row.movieId])**2)\n",
    "    \n",
    "    fold_errors.append(np.mean(errors)) \n",
    "        \n",
    "    print(f\"Done with this fold in {time.time()- start} s\")\n",
    "    print(f\"MSE for this part is {fold_errors[-1]}\")\n",
    "print(f\"MSE is {np.mean(fold_errors)}\")"
   ]
  },
  {
   "cell_type": "code",
   "execution_count": 34,
   "metadata": {},
   "outputs": [
    {
     "name": "stdout",
     "output_type": "stream",
     "text": [
      "####### K fold part-1 ########\n",
      "Done with this fold in 202.1288182735443 s\n",
      "MSE for this part is 1.177967054445447\n",
      "####### K fold part-2 ########\n",
      "Done with this fold in 201.70803999900818 s\n",
      "MSE for this part is 1.1917852949382002\n",
      "####### K fold part-3 ########\n",
      "Done with this fold in 200.63479113578796 s\n",
      "MSE for this part is 1.1811478788084306\n",
      "####### K fold part-4 ########\n",
      "Done with this fold in 202.054208278656 s\n",
      "MSE for this part is 1.1612560513228376\n",
      "####### K fold part-5 ########\n",
      "Done with this fold in 22126.19813156128 s\n",
      "MSE for this part is 1.1801287665326108\n",
      "MSE is 1.1784570092095052\n"
     ]
    }
   ],
   "source": [
    "k_folds = 5\n",
    "k = 5\n",
    "fold_errors = []\n",
    "\n",
    "for i in range(k_folds):\n",
    "    errors = []\n",
    "    shuffled = ratings.sample(frac=1)\n",
    "    cut = int((1- 1/k_folds)* len(ratings))\n",
    "    \n",
    "    training = shuffled.iloc[:cut]\n",
    "    test = shuffled.iloc[cut:]\n",
    "    \n",
    "    utility_matrix = pd.DataFrame(index= sorted(pd.unique(ratings.userId)), \\\n",
    "                              columns = sorted(pd.unique(ratings.movieId)))\n",
    "    \n",
    "    \n",
    "    \n",
    "    \n",
    "    print(f\"####### K fold part-{i+1} ########\")\n",
    "    start= time.time()\n",
    "    \n",
    "    for _, row in training.iterrows():\n",
    "        utility_matrix.loc[int(row.userId), int(row.movieId)] = row.rating\n",
    "    \n",
    "    utility_matrix.fillna(utility_matrix.mean(), inplace= True)\n",
    "    utility_matrix.fillna(0, inplace= True)\n",
    "    \n",
    "    reduced_matrix = pd.DataFrame(PCA(n_components=500).fit_transform(utility_matrix), index= np.arange(1,611))\n",
    "    corr = reduced_matrix.T.corr()\n",
    "    \n",
    "    top_neighbours = top_k(corr, k)\n",
    "    \n",
    "    mean_ratings = utility_matrix.sum(axis=1)/(utility_matrix>0).sum(axis=1)\n",
    "    \n",
    "    \n",
    "    for target_user in test.userId.unique():\n",
    "\n",
    "        temp = test[test.userId==target_user]\n",
    "        similarities = np.sort(corr)[target_user-1,-k-1:-1][::-1]\n",
    "        neighbour_ratings = utility_matrix.loc[top_neighbours.loc[target_user]]\n",
    "\n",
    "        suggested_ratings = mean_ratings.loc[target_user] + similarities * neighbour_ratings.T/sum(similarities)\n",
    "        suggested_ratings = suggested_ratings.mean(axis=1)\n",
    "        \n",
    "        for _, row in temp.iterrows():\n",
    "            errors.append((row.rating - suggested_ratings.loc[row.movieId])**2)\n",
    "    \n",
    "    fold_errors.append(np.mean(errors)) \n",
    "        \n",
    "    print(f\"Done with this fold in {time.time()- start} s\")\n",
    "    \n",
    "    print(f\"MSE for this part is {fold_errors[-1]}\")\n",
    "\n",
    "print(f\"MSE is {np.mean(fold_errors)}\")"
   ]
  }
 ],
 "metadata": {
  "kernelspec": {
   "display_name": "Python 3",
   "language": "python",
   "name": "python3"
  },
  "language_info": {
   "codemirror_mode": {
    "name": "ipython",
    "version": 3
   },
   "file_extension": ".py",
   "mimetype": "text/x-python",
   "name": "python",
   "nbconvert_exporter": "python",
   "pygments_lexer": "ipython3",
   "version": "3.8.5"
  }
 },
 "nbformat": 4,
 "nbformat_minor": 4
}
